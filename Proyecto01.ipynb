{
 "cells": [
  {
   "cell_type": "markdown",
   "metadata": {},
   "source": [
    "## Diabetes"
   ]
  },
  {
   "cell_type": "markdown",
   "metadata": {},
   "source": [
    "### Descripción del dataset\n",
    "\n",
    "Este conjunto de datos proviene del Instituto Nacional de Diabetes y Enfermedades Digestivas y Renales. El objetivo del conjunto de datos es predecir de forma diagnóstica si un paciente tiene diabetes o no, basándose en ciertas mediciones de diagnóstico incluidas en el conjunto de datos. El dataset puede encontrarse en [este](https://www.kaggle.com/datasets/uciml/pima-indians-diabetes-database) enlace.\n",
    "\n",
    "### ¿Qué es la diabetes?\n",
    "\n",
    "La diabetes es una enfermedad metabólica crónica que se caracteriza por los niveles elevados de glucosa en la sangre (o azúcar en la sangre). La más común es la diabetes de tipo 2 que sucede cuando el cuerpo se vuelve resistente a la insulina o no produce suficiente insulina. En la diabetes tipo 1 el páncreas produce poca o ninguna insulina por sí sólo. (World Health Organization: WHO, 2019).\n",
    "\n",
    "También existe la diabetes gestacional, esta se desarrolla durante el embarazo. Para la mayoría de mujeres, los niveles de glucosa en sangre vuelven a la normalidad después del nacimiento del bebé. Pero sí se desarrolla, se tiene un mayor riesgo de desarrollar diabetes de Tipo 2, por lo que es necesario hacerse revisiones regularmente.  (American Diabetes Association, s.f.)\n",
    "\n",
    "### ¿Qué es la insulina?\n",
    "\n",
    "La insulina es una hormona con diferentes funciones, pero la más importante es nivelar los niveles de glucosa. Cuando commemos, los niveles de glucosa en sangre incrementan, una parte del azúcar llega a las células beta del páncreas, dónde promueve la liberación de insulina. Comer mal o factores genéticos puede hacer que se desarrolle resistencia a la insulina, esto produce que ciertos tejidos no sean capaces de absorber glucosa porque no responden bien a la hormona. Cuando aumenta la glucosa las células beta producen una cantidad excesiva de insulina (hiperinsulinemia) lo que ocasiona que las células beta se desgasten y disminuyan la producción de insulina. Cuando el cuerpo no produce la insulina necesaria, la glucosa se pega a las diferentes proteínas del cuerpo, lo que provoca daños en distintas partes del cuerpo. (Santos Anastacio & Aceves Fonseca, 2018)\n"
   ]
  },
  {
   "cell_type": "markdown",
   "metadata": {},
   "source": [
    "### Información presente en el Dataset\n",
    "\n",
    "En el dataset se aplicaron restricciones para la elección de las observaciones, el sujeto es femenino y debe tener al menos 21 años de edad en el momento que se tomó la evalución. Sólo se seleccionó un exámen por sujeto. El exámen seleccionado fue uno que reveló un GTT no diabético y cumplió con uno de los dos criterios siguientes:\n",
    "\n",
    "* La diabetes fue diagnosticada dentro de los cinco años posteriores al exámen\n",
    "* Un GTT realizado cinco o más años después no logró revelar diabetes mellitus.\n",
    "\n",
    "Si la diabetes ocurrió dentro de un año de un examen, se excluye del estudio para eliminar del modelo de pronóstico aquellos casos que potencialmente eran más fácil de pronosticar. En el 75% de los exámenes excluidos, la DM fue diagnosticada a los seis meses. (Smith, J.W et al, 1988)\n",
    "\n",
    "Las columnas del dataset representan los siguientes datos.\n",
    "\n",
    "* Pregnancies: El número de veces que la persona ha estado embarazada.\n",
    "* Glucose:  Concentración de Glucosa en el Plasma a dos horas de realizado un test oral de tolerancia de glucosa (GTT) por sus siglas en inglés.\n",
    "* Diastolic blood pressure (mm Hg): Presión arterial diastólica.\n",
    "* Triceps Skin Fold Thickness (mm): Grosor del pliegue cutáneo del tríceps (mm)\n",
    "* 2-Hour Serum Insulin ($\\mu$ U/ml) : Insulina sérica de 2 horas ($\\mu$ U/ml)\n",
    "* Body Mass Index (Weight in kg / (Height in m)<sup>2</sup>)\n",
    "* Diabetes Pedigree Function: Función del pedigrí de la diabetes\n",
    "* Age (years): Edad en años\n",
    "* Outcome: Resultado, 0 es negativo, 1 es positivo. \n",
    "\n",
    "---\n",
    "\n",
    "- Nota: La función (DPF) sirve para proporcionar una síntesis de la historia de la diabetes mellitus en parientes y la relación genética de esos parientes con el sujeto. El DPF utiliza información de padres, abuelos, hermanos y medios hermanos, tíos y tías y medios típs y tías, así cómo de primos. Proporciona una medida de la influencia genética esperada de familiares afectados y no afectados sobre la eventual diabetes del sujeto. (Smith, J.W et al, 1988)\n",
    "\n",
    "\n"
   ]
  },
  {
   "cell_type": "markdown",
   "metadata": {},
   "source": [
    "### Análisis del  dataset\n",
    "#### Cargamos el dataset utilizando la biblioteca de Pandas"
   ]
  },
  {
   "cell_type": "code",
   "execution_count": 7,
   "metadata": {},
   "outputs": [],
   "source": [
    "import pandas as pd\n",
    "\n",
    "data_set_diabetes = pd.read_csv(\"./Datasets/diabetes.csv\")"
   ]
  },
  {
   "cell_type": "markdown",
   "metadata": {},
   "source": [
    "Revisamos si se tienen valores nulos"
   ]
  },
  {
   "cell_type": "code",
   "execution_count": 11,
   "metadata": {},
   "outputs": [
    {
     "data": {
      "text/plain": [
       "0"
      ]
     },
     "execution_count": 11,
     "metadata": {},
     "output_type": "execute_result"
    }
   ],
   "source": [
    "data_set_diabetes.isna().sum().sum()"
   ]
  },
  {
   "cell_type": "markdown",
   "metadata": {},
   "source": [
    "Contamos cuantos valores son cero para cada columna, como se puede observar en el output, hay 111 filas de Pregnancies con un dato de **0**, 5 filas con el dato Glucose en **0**, 35 de BloodPressure en **0**, 227 de SkinThickness en **0**, 374 de Insulin en **0** y 11 de BMI en **0**.\n",
    "\n",
    "El Age no hay ningún dato que sea 0 puesto que solo se tomaron ejemplos donde la persona tuviera por lo menos 21 años de edad.\n",
    "\n",
    "En el caso de la DPF tampoco se tienen valores en 0.\n",
    "\n",
    "El Outcome en realidad va a salir alto puesto que su valor es de 0 o 1, no es relevante en este caso.\n",
    "\n",
    "Sin embargo, los demás datos que están en cero pueden complicar el entrenamiento del modelo generando ruido, por lo que deben de tratarse."
   ]
  },
  {
   "cell_type": "code",
   "execution_count": 12,
   "metadata": {},
   "outputs": [
    {
     "name": "stdout",
     "output_type": "stream",
     "text": [
      "Pregnancies                 111\n",
      "Glucose                       5\n",
      "BloodPressure                35\n",
      "SkinThickness               227\n",
      "Insulin                     374\n",
      "BMI                          11\n",
      "DiabetesPedigreeFunction      0\n",
      "Age                           0\n",
      "Outcome                     500\n",
      "dtype: int64\n"
     ]
    }
   ],
   "source": [
    "zero_counts = (data_set_diabetes == 0).sum()\n",
    "\n",
    "print(zero_counts)"
   ]
  },
  {
   "cell_type": "markdown",
   "metadata": {},
   "source": [
    "Como se aprecia a continuación, la cantidad de ejemplos con diabetes es de 268 y la cantidad de ejemplos sin diabetes es de 500.\n",
    "\n",
    "Esto quiere decir que nuestro set de datos en este caso es **imbalanceado**"
   ]
  },
  {
   "cell_type": "code",
   "execution_count": 16,
   "metadata": {},
   "outputs": [
    {
     "data": {
      "text/plain": [
       "Outcome\n",
       "0    500\n",
       "1    268\n",
       "Name: count, dtype: int64"
      ]
     },
     "execution_count": 16,
     "metadata": {},
     "output_type": "execute_result"
    }
   ],
   "source": [
    "data_set_diabetes.value_counts('Outcome')"
   ]
  },
  {
   "cell_type": "markdown",
   "metadata": {},
   "source": [
    "Utilizando la función describe se puede observar que el valor mínimo para la mayoría de columnas es de 0, como ya se vio anteriormente, hay filas que tienen ceros en distintas columnas, lo que se puede observar aquí también.\n",
    "\n",
    "Las únicas dos variables donde el valor mínimo es distinto de cero son el DPF con un mínimo de **0.078000** y el Age con un mínimo de **21**"
   ]
  },
  {
   "cell_type": "code",
   "execution_count": 17,
   "metadata": {},
   "outputs": [
    {
     "data": {
      "text/html": [
       "<div>\n",
       "<style scoped>\n",
       "    .dataframe tbody tr th:only-of-type {\n",
       "        vertical-align: middle;\n",
       "    }\n",
       "\n",
       "    .dataframe tbody tr th {\n",
       "        vertical-align: top;\n",
       "    }\n",
       "\n",
       "    .dataframe thead th {\n",
       "        text-align: right;\n",
       "    }\n",
       "</style>\n",
       "<table border=\"1\" class=\"dataframe\">\n",
       "  <thead>\n",
       "    <tr style=\"text-align: right;\">\n",
       "      <th></th>\n",
       "      <th>Pregnancies</th>\n",
       "      <th>Glucose</th>\n",
       "      <th>BloodPressure</th>\n",
       "      <th>SkinThickness</th>\n",
       "      <th>Insulin</th>\n",
       "      <th>BMI</th>\n",
       "      <th>DiabetesPedigreeFunction</th>\n",
       "      <th>Age</th>\n",
       "      <th>Outcome</th>\n",
       "    </tr>\n",
       "  </thead>\n",
       "  <tbody>\n",
       "    <tr>\n",
       "      <th>count</th>\n",
       "      <td>768.000000</td>\n",
       "      <td>768.000000</td>\n",
       "      <td>768.000000</td>\n",
       "      <td>768.000000</td>\n",
       "      <td>768.000000</td>\n",
       "      <td>768.000000</td>\n",
       "      <td>768.000000</td>\n",
       "      <td>768.000000</td>\n",
       "      <td>768.000000</td>\n",
       "    </tr>\n",
       "    <tr>\n",
       "      <th>mean</th>\n",
       "      <td>3.845052</td>\n",
       "      <td>120.894531</td>\n",
       "      <td>69.105469</td>\n",
       "      <td>20.536458</td>\n",
       "      <td>79.799479</td>\n",
       "      <td>31.992578</td>\n",
       "      <td>0.471876</td>\n",
       "      <td>33.240885</td>\n",
       "      <td>0.348958</td>\n",
       "    </tr>\n",
       "    <tr>\n",
       "      <th>std</th>\n",
       "      <td>3.369578</td>\n",
       "      <td>31.972618</td>\n",
       "      <td>19.355807</td>\n",
       "      <td>15.952218</td>\n",
       "      <td>115.244002</td>\n",
       "      <td>7.884160</td>\n",
       "      <td>0.331329</td>\n",
       "      <td>11.760232</td>\n",
       "      <td>0.476951</td>\n",
       "    </tr>\n",
       "    <tr>\n",
       "      <th>min</th>\n",
       "      <td>0.000000</td>\n",
       "      <td>0.000000</td>\n",
       "      <td>0.000000</td>\n",
       "      <td>0.000000</td>\n",
       "      <td>0.000000</td>\n",
       "      <td>0.000000</td>\n",
       "      <td>0.078000</td>\n",
       "      <td>21.000000</td>\n",
       "      <td>0.000000</td>\n",
       "    </tr>\n",
       "    <tr>\n",
       "      <th>25%</th>\n",
       "      <td>1.000000</td>\n",
       "      <td>99.000000</td>\n",
       "      <td>62.000000</td>\n",
       "      <td>0.000000</td>\n",
       "      <td>0.000000</td>\n",
       "      <td>27.300000</td>\n",
       "      <td>0.243750</td>\n",
       "      <td>24.000000</td>\n",
       "      <td>0.000000</td>\n",
       "    </tr>\n",
       "    <tr>\n",
       "      <th>50%</th>\n",
       "      <td>3.000000</td>\n",
       "      <td>117.000000</td>\n",
       "      <td>72.000000</td>\n",
       "      <td>23.000000</td>\n",
       "      <td>30.500000</td>\n",
       "      <td>32.000000</td>\n",
       "      <td>0.372500</td>\n",
       "      <td>29.000000</td>\n",
       "      <td>0.000000</td>\n",
       "    </tr>\n",
       "    <tr>\n",
       "      <th>75%</th>\n",
       "      <td>6.000000</td>\n",
       "      <td>140.250000</td>\n",
       "      <td>80.000000</td>\n",
       "      <td>32.000000</td>\n",
       "      <td>127.250000</td>\n",
       "      <td>36.600000</td>\n",
       "      <td>0.626250</td>\n",
       "      <td>41.000000</td>\n",
       "      <td>1.000000</td>\n",
       "    </tr>\n",
       "    <tr>\n",
       "      <th>max</th>\n",
       "      <td>17.000000</td>\n",
       "      <td>199.000000</td>\n",
       "      <td>122.000000</td>\n",
       "      <td>99.000000</td>\n",
       "      <td>846.000000</td>\n",
       "      <td>67.100000</td>\n",
       "      <td>2.420000</td>\n",
       "      <td>81.000000</td>\n",
       "      <td>1.000000</td>\n",
       "    </tr>\n",
       "  </tbody>\n",
       "</table>\n",
       "</div>"
      ],
      "text/plain": [
       "       Pregnancies     Glucose  BloodPressure  SkinThickness     Insulin  \\\n",
       "count   768.000000  768.000000     768.000000     768.000000  768.000000   \n",
       "mean      3.845052  120.894531      69.105469      20.536458   79.799479   \n",
       "std       3.369578   31.972618      19.355807      15.952218  115.244002   \n",
       "min       0.000000    0.000000       0.000000       0.000000    0.000000   \n",
       "25%       1.000000   99.000000      62.000000       0.000000    0.000000   \n",
       "50%       3.000000  117.000000      72.000000      23.000000   30.500000   \n",
       "75%       6.000000  140.250000      80.000000      32.000000  127.250000   \n",
       "max      17.000000  199.000000     122.000000      99.000000  846.000000   \n",
       "\n",
       "              BMI  DiabetesPedigreeFunction         Age     Outcome  \n",
       "count  768.000000                768.000000  768.000000  768.000000  \n",
       "mean    31.992578                  0.471876   33.240885    0.348958  \n",
       "std      7.884160                  0.331329   11.760232    0.476951  \n",
       "min      0.000000                  0.078000   21.000000    0.000000  \n",
       "25%     27.300000                  0.243750   24.000000    0.000000  \n",
       "50%     32.000000                  0.372500   29.000000    0.000000  \n",
       "75%     36.600000                  0.626250   41.000000    1.000000  \n",
       "max     67.100000                  2.420000   81.000000    1.000000  "
      ]
     },
     "execution_count": 17,
     "metadata": {},
     "output_type": "execute_result"
    }
   ],
   "source": [
    "data_set_diabetes.describe()"
   ]
  },
  {
   "cell_type": "markdown",
   "metadata": {},
   "source": [
    "Podemos hacer un gráfico de histogramas para ver la distribución del dataset entero con los ceros incluidos"
   ]
  },
  {
   "cell_type": "code",
   "execution_count": 20,
   "metadata": {},
   "outputs": [
    {
     "ename": "ValueError",
     "evalue": "Layout of 2x2 must be larger than required size 9",
     "output_type": "error",
     "traceback": [
      "\u001b[1;31m---------------------------------------------------------------------------\u001b[0m",
      "\u001b[1;31mValueError\u001b[0m                                Traceback (most recent call last)",
      "Cell \u001b[1;32mIn[20], line 5\u001b[0m\n\u001b[0;32m      2\u001b[0m \u001b[38;5;28;01mimport\u001b[39;00m \u001b[38;5;21;01mmatplotlib\u001b[39;00m\u001b[38;5;21;01m.\u001b[39;00m\u001b[38;5;21;01mpyplot\u001b[39;00m \u001b[38;5;28;01mas\u001b[39;00m \u001b[38;5;21;01mplt\u001b[39;00m\n\u001b[0;32m      3\u001b[0m \u001b[38;5;28;01mimport\u001b[39;00m \u001b[38;5;21;01mseaborn\u001b[39;00m \u001b[38;5;28;01mas\u001b[39;00m \u001b[38;5;21;01msns\u001b[39;00m\n\u001b[1;32m----> 5\u001b[0m data_set_diabetes\u001b[38;5;241m.\u001b[39mhist(bins\u001b[38;5;241m=\u001b[39m\u001b[38;5;241m20\u001b[39m, figsize\u001b[38;5;241m=\u001b[39m(\u001b[38;5;241m8\u001b[39m, \u001b[38;5;241m5\u001b[39m), layout\u001b[38;5;241m=\u001b[39m(\u001b[38;5;241m2\u001b[39m, \u001b[38;5;241m2\u001b[39m), color\u001b[38;5;241m=\u001b[39m\u001b[38;5;124m'\u001b[39m\u001b[38;5;124mskyblue\u001b[39m\u001b[38;5;124m'\u001b[39m, edgecolor\u001b[38;5;241m=\u001b[39m\u001b[38;5;124m'\u001b[39m\u001b[38;5;124mblack\u001b[39m\u001b[38;5;124m'\u001b[39m)\n\u001b[0;32m      7\u001b[0m \u001b[38;5;66;03m#Agregamos el título por cada set de caracerísticas\u001b[39;00m\n\u001b[0;32m      8\u001b[0m plt\u001b[38;5;241m.\u001b[39msuptitle(\u001b[38;5;124m'\u001b[39m\u001b[38;5;124mHistograma de las características del Dataset completo\u001b[39m\u001b[38;5;124m'\u001b[39m, fontsize\u001b[38;5;241m=\u001b[39m\u001b[38;5;241m16\u001b[39m)\n",
      "File \u001b[1;32mc:\\ProgramData\\anaconda3\\Lib\\site-packages\\pandas\\plotting\\_core.py:251\u001b[0m, in \u001b[0;36mhist_frame\u001b[1;34m(data, column, by, grid, xlabelsize, xrot, ylabelsize, yrot, ax, sharex, sharey, figsize, layout, bins, backend, legend, **kwargs)\u001b[0m\n\u001b[0;32m    164\u001b[0m \u001b[38;5;250m\u001b[39m\u001b[38;5;124;03m\"\"\"\u001b[39;00m\n\u001b[0;32m    165\u001b[0m \u001b[38;5;124;03mMake a histogram of the DataFrame's columns.\u001b[39;00m\n\u001b[0;32m    166\u001b[0m \n\u001b[1;32m   (...)\u001b[0m\n\u001b[0;32m    248\u001b[0m \u001b[38;5;124;03m    >>> hist = df.hist(bins=3)\u001b[39;00m\n\u001b[0;32m    249\u001b[0m \u001b[38;5;124;03m\"\"\"\u001b[39;00m\n\u001b[0;32m    250\u001b[0m plot_backend \u001b[38;5;241m=\u001b[39m _get_plot_backend(backend)\n\u001b[1;32m--> 251\u001b[0m \u001b[38;5;28;01mreturn\u001b[39;00m plot_backend\u001b[38;5;241m.\u001b[39mhist_frame(\n\u001b[0;32m    252\u001b[0m     data,\n\u001b[0;32m    253\u001b[0m     column\u001b[38;5;241m=\u001b[39mcolumn,\n\u001b[0;32m    254\u001b[0m     by\u001b[38;5;241m=\u001b[39mby,\n\u001b[0;32m    255\u001b[0m     grid\u001b[38;5;241m=\u001b[39mgrid,\n\u001b[0;32m    256\u001b[0m     xlabelsize\u001b[38;5;241m=\u001b[39mxlabelsize,\n\u001b[0;32m    257\u001b[0m     xrot\u001b[38;5;241m=\u001b[39mxrot,\n\u001b[0;32m    258\u001b[0m     ylabelsize\u001b[38;5;241m=\u001b[39mylabelsize,\n\u001b[0;32m    259\u001b[0m     yrot\u001b[38;5;241m=\u001b[39myrot,\n\u001b[0;32m    260\u001b[0m     ax\u001b[38;5;241m=\u001b[39max,\n\u001b[0;32m    261\u001b[0m     sharex\u001b[38;5;241m=\u001b[39msharex,\n\u001b[0;32m    262\u001b[0m     sharey\u001b[38;5;241m=\u001b[39msharey,\n\u001b[0;32m    263\u001b[0m     figsize\u001b[38;5;241m=\u001b[39mfigsize,\n\u001b[0;32m    264\u001b[0m     layout\u001b[38;5;241m=\u001b[39mlayout,\n\u001b[0;32m    265\u001b[0m     legend\u001b[38;5;241m=\u001b[39mlegend,\n\u001b[0;32m    266\u001b[0m     bins\u001b[38;5;241m=\u001b[39mbins,\n\u001b[0;32m    267\u001b[0m     \u001b[38;5;241m*\u001b[39m\u001b[38;5;241m*\u001b[39mkwargs,\n\u001b[0;32m    268\u001b[0m )\n",
      "File \u001b[1;32mc:\\ProgramData\\anaconda3\\Lib\\site-packages\\pandas\\plotting\\_matplotlib\\hist.py:553\u001b[0m, in \u001b[0;36mhist_frame\u001b[1;34m(data, column, by, grid, xlabelsize, xrot, ylabelsize, yrot, ax, sharex, sharey, figsize, layout, bins, legend, **kwds)\u001b[0m\n\u001b[0;32m    548\u001b[0m \u001b[38;5;28;01mif\u001b[39;00m naxes \u001b[38;5;241m==\u001b[39m \u001b[38;5;241m0\u001b[39m:\n\u001b[0;32m    549\u001b[0m     \u001b[38;5;28;01mraise\u001b[39;00m \u001b[38;5;167;01mValueError\u001b[39;00m(\n\u001b[0;32m    550\u001b[0m         \u001b[38;5;124m\"\u001b[39m\u001b[38;5;124mhist method requires numerical or datetime columns, nothing to plot.\u001b[39m\u001b[38;5;124m\"\u001b[39m\n\u001b[0;32m    551\u001b[0m     )\n\u001b[1;32m--> 553\u001b[0m fig, axes \u001b[38;5;241m=\u001b[39m create_subplots(\n\u001b[0;32m    554\u001b[0m     naxes\u001b[38;5;241m=\u001b[39mnaxes,\n\u001b[0;32m    555\u001b[0m     ax\u001b[38;5;241m=\u001b[39max,\n\u001b[0;32m    556\u001b[0m     squeeze\u001b[38;5;241m=\u001b[39m\u001b[38;5;28;01mFalse\u001b[39;00m,\n\u001b[0;32m    557\u001b[0m     sharex\u001b[38;5;241m=\u001b[39msharex,\n\u001b[0;32m    558\u001b[0m     sharey\u001b[38;5;241m=\u001b[39msharey,\n\u001b[0;32m    559\u001b[0m     figsize\u001b[38;5;241m=\u001b[39mfigsize,\n\u001b[0;32m    560\u001b[0m     layout\u001b[38;5;241m=\u001b[39mlayout,\n\u001b[0;32m    561\u001b[0m )\n\u001b[0;32m    562\u001b[0m _axes \u001b[38;5;241m=\u001b[39m flatten_axes(axes)\n\u001b[0;32m    564\u001b[0m can_set_label \u001b[38;5;241m=\u001b[39m \u001b[38;5;124m\"\u001b[39m\u001b[38;5;124mlabel\u001b[39m\u001b[38;5;124m\"\u001b[39m \u001b[38;5;129;01mnot\u001b[39;00m \u001b[38;5;129;01min\u001b[39;00m kwds\n",
      "File \u001b[1;32mc:\\ProgramData\\anaconda3\\Lib\\site-packages\\pandas\\plotting\\_matplotlib\\tools.py:276\u001b[0m, in \u001b[0;36mcreate_subplots\u001b[1;34m(naxes, sharex, sharey, squeeze, subplot_kw, ax, layout, layout_type, **fig_kw)\u001b[0m\n\u001b[0;32m    268\u001b[0m         warnings\u001b[38;5;241m.\u001b[39mwarn(\n\u001b[0;32m    269\u001b[0m             \u001b[38;5;124m\"\u001b[39m\u001b[38;5;124mTo output multiple subplots, the figure containing \u001b[39m\u001b[38;5;124m\"\u001b[39m\n\u001b[0;32m    270\u001b[0m             \u001b[38;5;124m\"\u001b[39m\u001b[38;5;124mthe passed axes is being cleared.\u001b[39m\u001b[38;5;124m\"\u001b[39m,\n\u001b[0;32m    271\u001b[0m             \u001b[38;5;167;01mUserWarning\u001b[39;00m,\n\u001b[0;32m    272\u001b[0m             stacklevel\u001b[38;5;241m=\u001b[39mfind_stack_level(),\n\u001b[0;32m    273\u001b[0m         )\n\u001b[0;32m    274\u001b[0m         fig\u001b[38;5;241m.\u001b[39mclear()\n\u001b[1;32m--> 276\u001b[0m nrows, ncols \u001b[38;5;241m=\u001b[39m _get_layout(naxes, layout\u001b[38;5;241m=\u001b[39mlayout, layout_type\u001b[38;5;241m=\u001b[39mlayout_type)\n\u001b[0;32m    277\u001b[0m nplots \u001b[38;5;241m=\u001b[39m nrows \u001b[38;5;241m*\u001b[39m ncols\n\u001b[0;32m    279\u001b[0m \u001b[38;5;66;03m# Create empty object array to hold all axes.  It's easiest to make it 1-d\u001b[39;00m\n\u001b[0;32m    280\u001b[0m \u001b[38;5;66;03m# so we can just append subplots upon creation, and then\u001b[39;00m\n",
      "File \u001b[1;32mc:\\ProgramData\\anaconda3\\Lib\\site-packages\\pandas\\plotting\\_matplotlib\\tools.py:112\u001b[0m, in \u001b[0;36m_get_layout\u001b[1;34m(nplots, layout, layout_type)\u001b[0m\n\u001b[0;32m    109\u001b[0m         \u001b[38;5;28;01mraise\u001b[39;00m \u001b[38;5;167;01mValueError\u001b[39;00m(msg)\n\u001b[0;32m    111\u001b[0m     \u001b[38;5;28;01mif\u001b[39;00m nrows \u001b[38;5;241m*\u001b[39m ncols \u001b[38;5;241m<\u001b[39m nplots:\n\u001b[1;32m--> 112\u001b[0m         \u001b[38;5;28;01mraise\u001b[39;00m \u001b[38;5;167;01mValueError\u001b[39;00m(\n\u001b[0;32m    113\u001b[0m             \u001b[38;5;124mf\u001b[39m\u001b[38;5;124m\"\u001b[39m\u001b[38;5;124mLayout of \u001b[39m\u001b[38;5;132;01m{\u001b[39;00mnrows\u001b[38;5;132;01m}\u001b[39;00m\u001b[38;5;124mx\u001b[39m\u001b[38;5;132;01m{\u001b[39;00mncols\u001b[38;5;132;01m}\u001b[39;00m\u001b[38;5;124m must be larger than required size \u001b[39m\u001b[38;5;132;01m{\u001b[39;00mnplots\u001b[38;5;132;01m}\u001b[39;00m\u001b[38;5;124m\"\u001b[39m\n\u001b[0;32m    114\u001b[0m         )\n\u001b[0;32m    116\u001b[0m     \u001b[38;5;28;01mreturn\u001b[39;00m layout\n\u001b[0;32m    118\u001b[0m \u001b[38;5;28;01mif\u001b[39;00m layout_type \u001b[38;5;241m==\u001b[39m \u001b[38;5;124m\"\u001b[39m\u001b[38;5;124msingle\u001b[39m\u001b[38;5;124m\"\u001b[39m:\n",
      "\u001b[1;31mValueError\u001b[0m: Layout of 2x2 must be larger than required size 9"
     ]
    },
    {
     "data": {
      "text/plain": [
       "<Figure size 800x500 with 0 Axes>"
      ]
     },
     "metadata": {},
     "output_type": "display_data"
    }
   ],
   "source": [
    "#Importamos matplotlib y seaborn para realizar graficos\n",
    "import matplotlib.pyplot as plt\n",
    "import seaborn as sns\n",
    "\n",
    "data_set_diabetes.hist(bins=20, figsize=(8, 5), layout=(3, 3), color='skyblue', edgecolor='black')\n",
    "\n",
    "#Agregamos el título por cada set de caracerísticas\n",
    "plt.suptitle('Histograma de las características del Dataset completo', fontsize=16)\n",
    "\n",
    "# Display the plot\n",
    "plt.show()"
   ]
  },
  {
   "cell_type": "markdown",
   "metadata": {},
   "source": [
    "Nota: Puede ser que se relacione el número de embarazos con el resultado del test de glucosa a las 2 horas, porque? Porque si la persona desarrollo diabetes gestacional, entonces es más probable que desarrolle diabetes de tipo 2."
   ]
  },
  {
   "cell_type": "markdown",
   "metadata": {},
   "source": [
    "### Bibliografía\n",
    "\n",
    "World Health Organization: WHO. (2019, Mayo 13). Diabetes. https://www.who.int/health-topics/diabetes?gad_source=1&gclid=CjwKCAjwlbu2BhA3EiwA3yXyu8P93rLctxz0dWaQagqlwSQjyE4EYIqKVmVn1FlIyWSvT6At9y5imhoCDyAQAvD_BwE#tab=tab_1\n",
    "\n",
    "Santos Anastacio, S. A. B., & Aceves Fonseca, A. F. E. (2018, Mayo 4). Diabetes: relación tormentosa entre glucosa e insulina. Centro De Ciencias De La Complejidad. https://www.c3.unam.mx/noticias/noticia28.html\n",
    "\n",
    "American Diabetes Association. (s.f.). La glucosa (azúcar) en sangre y la insulina en acción. https://diabetes.org/espanol/la-glucosa-y-la-insulina-en-accion\n",
    "\n",
    "Smith, J.W., Everhart, J.E., Dickson, W.C., Knowler, W.C., & Johannes, R.S. (1988). Using the ADAP learning algorithm to forecast the onset of diabetes mellitus. In Proceedings of the Symposium on Computer Applications and Medical Care (pp. 261--265). IEEE Computer Society Press."
   ]
  },
  {
   "cell_type": "markdown",
   "metadata": {},
   "source": [
    "## Carros\n"
   ]
  }
 ],
 "metadata": {
  "kernelspec": {
   "display_name": "Python 3",
   "language": "python",
   "name": "python3"
  },
  "language_info": {
   "codemirror_mode": {
    "name": "ipython",
    "version": 3
   },
   "file_extension": ".py",
   "mimetype": "text/x-python",
   "name": "python",
   "nbconvert_exporter": "python",
   "pygments_lexer": "ipython3",
   "version": "3.12.4"
  }
 },
 "nbformat": 4,
 "nbformat_minor": 2
}
